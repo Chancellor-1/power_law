{
 "cells": [
  {
   "cell_type": "code",
   "execution_count": null,
   "metadata": {},
   "outputs": [],
   "source": [
    "# Copyright (C) 2024 Chancellor - License GPLv3\n",
    "from power_law.config.config import Config\n",
    "from power_law.coins.bitcoin import Bitcoin\n",
    "\n",
    "config = Config()\n",
    "config.import_arguments(['-b', '-r'])\n",
    "\n",
    "btc = Bitcoin(config.get_coin_config('btc'))\n",
    "btc.plot_bitcoin()"
   ]
  }
 ],
 "metadata": {
  "kernelspec": {
   "display_name": "venv",
   "language": "python",
   "name": "python3"
  },
  "language_info": {
   "codemirror_mode": {
    "name": "ipython",
    "version": 3
   },
   "file_extension": ".py",
   "mimetype": "text/x-python",
   "name": "python",
   "nbconvert_exporter": "python",
   "pygments_lexer": "ipython3",
   "version": "3.8.10"
  },
  "orig_nbformat": 4,
  "vscode": {
   "interpreter": {
    "hash": "18b0b877f107baaa62d44b32e31f6cf336da20fdb5ea70ba73be8d118c490473"
   }
  }
 },
 "nbformat": 4,
 "nbformat_minor": 2
}
